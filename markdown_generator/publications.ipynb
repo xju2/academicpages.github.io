{
 "cells": [
  {
   "cell_type": "markdown",
   "metadata": {},
   "source": [
    "# Publications markdown generator for academicpages\n",
    "\n",
    "Takes a TSV of publications with metadata and converts them for use with [xju2.github.io](academicpages.github.io). This is an interactive Jupyter notebook ([see more info here](http://jupyter-notebook-beginner-guide.readthedocs.io/en/latest/what_is_jupyter.html)). The core python code is also in `publications.py`. Run either from the `markdown_generator` folder after replacing `publications.tsv` with one containing your data.\n",
    "\n",
    "TODO: Make this work with BibTex and other databases of citations, rather than Stuart's non-standard TSV format and citation style.\n"
   ]
  },
  {
   "cell_type": "markdown",
   "metadata": {},
   "source": [
    "## Data format\n",
    "\n",
    "The TSV needs to have the following columns: pub_date, title, venue, excerpt, citation, site_url, and paper_url, with a header at the top. \n",
    "\n",
    "- `excerpt` and `paper_url` can be blank, but the others must have values. \n",
    "- `pub_date` must be formatted as YYYY-MM-DD.\n",
    "- `url_slug` will be the descriptive part of the .md file and the permalink URL for the page about the paper. The .md file will be `YYYY-MM-DD-[url_slug].md` and the permalink will be `https://[yourdomain]/publications/YYYY-MM-DD-[url_slug]`\n",
    "\n",
    "This is how the raw file looks (it doesn't look pretty, use a spreadsheet or other program to edit and create)."
   ]
  },
  {
   "cell_type": "code",
   "execution_count": 1,
   "metadata": {},
   "outputs": [
    {
     "name": "stdout",
     "output_type": "stream",
     "text": [
      "pub_date\ttitle\tvenue\texcerpt\tcitation\turl_slug\tpaper_url\r\n",
      "2009-10-01\tPaper Title Number 1\tJournal 1\tThis paper is about the number 1. The number 2 is left for future work.\tYour Name, You. (2009). \"Paper Title Number 1.\" <i>Journal 1</i>. 1(1).\tpaper-title-number-1\thttp://academicpages.github.io/files/paper1.pdf\r\n",
      "2010-10-01\tPaper Title Number 2\tJournal 1\tThis paper is about the number 2. The number 3 is left for future work.\tYour Name, You. (2010). \"Paper Title Number 2.\" <i>Journal 1</i>. 1(2).\tpaper-title-number-2\thttp://academicpages.github.io/files/paper2.pdf\r\n",
      "2015-10-01\tPaper Title Number 3\tJournal 1\tThis paper is about the number 3. The number 4 is left for future work.\tYour Name, You. (2015). \"Paper Title Number 3.\" <i>Journal 1</i>. 1(3).\tpaper-title-number-3\thttp://academicpages.github.io/files/paper3.pdf"
     ]
    }
   ],
   "source": [
    "!cat publications.tsv"
   ]
  },
  {
   "cell_type": "markdown",
   "metadata": {},
   "source": [
    "## Import pandas\n",
    "\n",
    "We are using the very handy pandas library for dataframes."
   ]
  },
  {
   "cell_type": "code",
   "execution_count": 1,
   "metadata": {
    "collapsed": true
   },
   "outputs": [],
   "source": [
    "import pandas as pd"
   ]
  },
  {
   "cell_type": "markdown",
   "metadata": {},
   "source": [
    "## Import TSV\n",
    "\n",
    "Pandas makes this easy with the read_csv function. We are using a TSV, so we specify the separator as a tab, or `\\t`.\n",
    "\n",
    "I found it important to put this data in a tab-separated values format, because there are a lot of commas in this kind of data and comma-separated values can get messed up. However, you can modify the import statement, as pandas also has read_excel(), read_json(), and others."
   ]
  },
  {
   "cell_type": "code",
   "execution_count": 11,
   "metadata": {},
   "outputs": [
    {
     "data": {
      "text/html": [
       "<div>\n",
       "<style>\n",
       "    .dataframe thead tr:only-child th {\n",
       "        text-align: right;\n",
       "    }\n",
       "\n",
       "    .dataframe thead th {\n",
       "        text-align: left;\n",
       "    }\n",
       "\n",
       "    .dataframe tbody tr th {\n",
       "        vertical-align: top;\n",
       "    }\n",
       "</style>\n",
       "<table border=\"1\" class=\"dataframe\">\n",
       "  <thead>\n",
       "    <tr style=\"text-align: right;\">\n",
       "      <th></th>\n",
       "      <th>pub_date</th>\n",
       "      <th>title</th>\n",
       "      <th>venue</th>\n",
       "      <th>excerpt</th>\n",
       "      <th>citation</th>\n",
       "      <th>url_slug</th>\n",
       "      <th>paper_url</th>\n",
       "    </tr>\n",
       "  </thead>\n",
       "  <tbody>\n",
       "    <tr>\n",
       "      <th>0</th>\n",
       "      <td>2010-12-14</td>\n",
       "      <td>Measurement of the W &amp;rarr; lv and Z &amp;rarr; ll...</td>\n",
       "      <td>JHEP</td>\n",
       "      <td>NaN</td>\n",
       "      <td>ATLAS Collaboration, JHEP 1012 (2010) 060</td>\n",
       "      <td>p</td>\n",
       "      <td>https://link.springer.com/article/10.1007/JHEP...</td>\n",
       "    </tr>\n",
       "    <tr>\n",
       "      <th>1</th>\n",
       "      <td>2011-11-24</td>\n",
       "      <td>Search for the Standard Model Higgs boson in t...</td>\n",
       "      <td>Phys.Lett.B</td>\n",
       "      <td>NaN</td>\n",
       "      <td>ATLAS Collaboration, Phys.Lett.B 705 (2011) 43...</td>\n",
       "      <td>p</td>\n",
       "      <td>http://www.sciencedirect.com/science/article/p...</td>\n",
       "    </tr>\n",
       "    <tr>\n",
       "      <th>2</th>\n",
       "      <td>2012-04-12</td>\n",
       "      <td>Search for the Standard Model Higgs boson in t...</td>\n",
       "      <td>Phys.Lett.B</td>\n",
       "      <td>NaN</td>\n",
       "      <td>Phys.Lett.B 710 (2012) 383-402</td>\n",
       "      <td>p</td>\n",
       "      <td>http://www.sciencedirect.com/science/article/p...</td>\n",
       "    </tr>\n",
       "    <tr>\n",
       "      <th>3</th>\n",
       "      <td>2012-03-29</td>\n",
       "      <td>Combined search for the Standard Model Higgs b...</td>\n",
       "      <td>Phys.Lett.B</td>\n",
       "      <td>NaN</td>\n",
       "      <td>ATLAS Collaboration, Phys.Lett.B 710 (2012) 49-66</td>\n",
       "      <td>p</td>\n",
       "      <td>http://www.sciencedirect.com/science/article/p...</td>\n",
       "    </tr>\n",
       "    <tr>\n",
       "      <th>4</th>\n",
       "      <td>2012-12-21</td>\n",
       "      <td>A Particle Consistent with the Higgs Boson Obs...</td>\n",
       "      <td>Science</td>\n",
       "      <td>NaN</td>\n",
       "      <td>ATLAS Collaboration, Science 338 1576-1582</td>\n",
       "      <td>p</td>\n",
       "      <td>http://science.sciencemag.org/content/338/6114...</td>\n",
       "    </tr>\n",
       "    <tr>\n",
       "      <th>5</th>\n",
       "      <td>2012-09-17</td>\n",
       "      <td>Observation of a new particle in the search fo...</td>\n",
       "      <td>Phys.Lett.B</td>\n",
       "      <td>NaN</td>\n",
       "      <td>ATLAS Collaboration, Phys.Lett.B 716 (2012) 1-29</td>\n",
       "      <td>p</td>\n",
       "      <td>http://www.sciencedirect.com/science/article/p...</td>\n",
       "    </tr>\n",
       "    <tr>\n",
       "      <th>6</th>\n",
       "      <td>2014-09-09</td>\n",
       "      <td>Measurement of the Higgs boson mass from the H...</td>\n",
       "      <td>Phys.Rev.D</td>\n",
       "      <td>NaN</td>\n",
       "      <td>ATLAS Collaboration, Phys.Rev.D 90 (2014) 052004</td>\n",
       "      <td>p</td>\n",
       "      <td>https://journals.aps.org/prd/abstract/10.1103/...</td>\n",
       "    </tr>\n",
       "    <tr>\n",
       "      <th>7</th>\n",
       "      <td>2015-01-16</td>\n",
       "      <td>Measurement of Higgs boson production and coup...</td>\n",
       "      <td>Phys.Rev.D</td>\n",
       "      <td>NaN</td>\n",
       "      <td>Phys.rev.D 91 (2015) no.1, 012006</td>\n",
       "      <td>p</td>\n",
       "      <td>https://journals.aps.org/prd/abstract/10.1103/...</td>\n",
       "    </tr>\n",
       "    <tr>\n",
       "      <th>8</th>\n",
       "      <td>2016-01-05</td>\n",
       "      <td>Measurements of the Higgs boson production and...</td>\n",
       "      <td>EPJC</td>\n",
       "      <td>NaN</td>\n",
       "      <td>Eur.Phys.J. C 76 (2016) no.1</td>\n",
       "      <td>p</td>\n",
       "      <td>https://link.springer.com/article/10.1140%2Fep...</td>\n",
       "    </tr>\n",
       "    <tr>\n",
       "      <th>9</th>\n",
       "      <td>2016-08-22</td>\n",
       "      <td>Search for new phenomena in final states with ...</td>\n",
       "      <td>Phys.Rev.D</td>\n",
       "      <td>NaN</td>\n",
       "      <td>Phys.Rev.D 94 (2016) no.3, 032005</td>\n",
       "      <td>p</td>\n",
       "      <td>https://journals.aps.org/prd/abstract/10.1103/...</td>\n",
       "    </tr>\n",
       "    <tr>\n",
       "      <th>10</th>\n",
       "      <td>2016-09-01</td>\n",
       "      <td>Search for resonances in diphoton events at sq...</td>\n",
       "      <td>JHEP</td>\n",
       "      <td>NaN</td>\n",
       "      <td>JHEP 1609 (2016) 001</td>\n",
       "      <td>p</td>\n",
       "      <td>https://link.springer.com/article/10.1007%2FJH...</td>\n",
       "    </tr>\n",
       "    <tr>\n",
       "      <th>11</th>\n",
       "      <td>2017-07-01</td>\n",
       "      <td>Search for new phenomena in high-mass diphoton...</td>\n",
       "      <td>PLB</td>\n",
       "      <td>ToBeUpdated</td>\n",
       "      <td>p</td>\n",
       "      <td>NaN</td>\n",
       "      <td>NaN</td>\n",
       "    </tr>\n",
       "    <tr>\n",
       "      <th>12</th>\n",
       "      <td>2017-10-01</td>\n",
       "      <td>Search for heavy ZZ resonances in the llll and...</td>\n",
       "      <td>EPJC</td>\n",
       "      <td>ToBeUpdated</td>\n",
       "      <td>p</td>\n",
       "      <td>NaN</td>\n",
       "      <td>NaN</td>\n",
       "    </tr>\n",
       "  </tbody>\n",
       "</table>\n",
       "</div>"
      ],
      "text/plain": [
       "      pub_date                                              title  \\\n",
       "0   2010-12-14  Measurement of the W &rarr; lv and Z &rarr; ll...   \n",
       "1   2011-11-24  Search for the Standard Model Higgs boson in t...   \n",
       "2   2012-04-12  Search for the Standard Model Higgs boson in t...   \n",
       "3   2012-03-29  Combined search for the Standard Model Higgs b...   \n",
       "4   2012-12-21  A Particle Consistent with the Higgs Boson Obs...   \n",
       "5   2012-09-17  Observation of a new particle in the search fo...   \n",
       "6   2014-09-09  Measurement of the Higgs boson mass from the H...   \n",
       "7   2015-01-16  Measurement of Higgs boson production and coup...   \n",
       "8   2016-01-05  Measurements of the Higgs boson production and...   \n",
       "9   2016-08-22  Search for new phenomena in final states with ...   \n",
       "10  2016-09-01  Search for resonances in diphoton events at sq...   \n",
       "11  2017-07-01  Search for new phenomena in high-mass diphoton...   \n",
       "12  2017-10-01  Search for heavy ZZ resonances in the llll and...   \n",
       "\n",
       "          venue      excerpt  \\\n",
       "0          JHEP          NaN   \n",
       "1   Phys.Lett.B          NaN   \n",
       "2   Phys.Lett.B          NaN   \n",
       "3   Phys.Lett.B          NaN   \n",
       "4       Science          NaN   \n",
       "5   Phys.Lett.B          NaN   \n",
       "6    Phys.Rev.D          NaN   \n",
       "7    Phys.Rev.D          NaN   \n",
       "8          EPJC          NaN   \n",
       "9    Phys.Rev.D          NaN   \n",
       "10         JHEP          NaN   \n",
       "11          PLB  ToBeUpdated   \n",
       "12         EPJC  ToBeUpdated   \n",
       "\n",
       "                                             citation url_slug  \\\n",
       "0           ATLAS Collaboration, JHEP 1012 (2010) 060        p   \n",
       "1   ATLAS Collaboration, Phys.Lett.B 705 (2011) 43...        p   \n",
       "2                      Phys.Lett.B 710 (2012) 383-402        p   \n",
       "3   ATLAS Collaboration, Phys.Lett.B 710 (2012) 49-66        p   \n",
       "4          ATLAS Collaboration, Science 338 1576-1582        p   \n",
       "5    ATLAS Collaboration, Phys.Lett.B 716 (2012) 1-29        p   \n",
       "6    ATLAS Collaboration, Phys.Rev.D 90 (2014) 052004        p   \n",
       "7                   Phys.rev.D 91 (2015) no.1, 012006        p   \n",
       "8                        Eur.Phys.J. C 76 (2016) no.1        p   \n",
       "9                   Phys.Rev.D 94 (2016) no.3, 032005        p   \n",
       "10                               JHEP 1609 (2016) 001        p   \n",
       "11                                                  p      NaN   \n",
       "12                                                  p      NaN   \n",
       "\n",
       "                                            paper_url  \n",
       "0   https://link.springer.com/article/10.1007/JHEP...  \n",
       "1   http://www.sciencedirect.com/science/article/p...  \n",
       "2   http://www.sciencedirect.com/science/article/p...  \n",
       "3   http://www.sciencedirect.com/science/article/p...  \n",
       "4   http://science.sciencemag.org/content/338/6114...  \n",
       "5   http://www.sciencedirect.com/science/article/p...  \n",
       "6   https://journals.aps.org/prd/abstract/10.1103/...  \n",
       "7   https://journals.aps.org/prd/abstract/10.1103/...  \n",
       "8   https://link.springer.com/article/10.1140%2Fep...  \n",
       "9   https://journals.aps.org/prd/abstract/10.1103/...  \n",
       "10  https://link.springer.com/article/10.1007%2FJH...  \n",
       "11                                                NaN  \n",
       "12                                                NaN  "
      ]
     },
     "execution_count": 11,
     "metadata": {},
     "output_type": "execute_result"
    }
   ],
   "source": [
    "publications = pd.read_csv(\"publications.tsv\", sep=\"\\t\", header=0)\n",
    "publications"
   ]
  },
  {
   "cell_type": "markdown",
   "metadata": {},
   "source": [
    "## Escape special characters\n",
    "\n",
    "YAML is very picky about how it takes a valid string, so we are replacing single and double quotes (and ampersands) with their HTML encoded equivilents. This makes them look not so readable in raw format, but they are parsed and rendered nicely."
   ]
  },
  {
   "cell_type": "code",
   "execution_count": 6,
   "metadata": {
    "collapsed": true
   },
   "outputs": [],
   "source": [
    "html_escape_table = {\n",
    "    \"&\": \"&amp;\",\n",
    "    '\"': \"&quot;\",\n",
    "    \"'\": \"&apos;\"\n",
    "    }\n",
    "\n",
    "def html_escape(text):\n",
    "    \"\"\"Produce entities within text.\"\"\"\n",
    "    if not pd.isnull(text):\n",
    "        return \"\".join(html_escape_table.get(c,c) for c in text)\n",
    "    else:\n",
    "        return \" \""
   ]
  },
  {
   "cell_type": "markdown",
   "metadata": {},
   "source": [
    "## Creating the markdown files\n",
    "\n",
    "This is where the heavy lifting is done. This loops through all the rows in the TSV dataframe, then starts to concatentate a big string (```md```) that contains the markdown for each type. It does the YAML metadata first, then does the description for the individual page."
   ]
  },
  {
   "cell_type": "code",
   "execution_count": 7,
   "metadata": {},
   "outputs": [
    {
     "ename": "TypeError",
     "evalue": "Can't convert 'float' object to str implicitly",
     "output_type": "error",
     "traceback": [
      "\u001b[0;31m---------------------------------------------------------------------------\u001b[0m",
      "\u001b[0;31mTypeError\u001b[0m                                 Traceback (most recent call last)",
      "\u001b[0;32m<ipython-input-7-36d8abf965bc>\u001b[0m in \u001b[0;36m<module>\u001b[0;34m()\u001b[0m\n\u001b[1;32m      3\u001b[0m \u001b[0;32mfor\u001b[0m \u001b[0mrow\u001b[0m\u001b[0;34m,\u001b[0m \u001b[0mitem\u001b[0m \u001b[0;32min\u001b[0m \u001b[0mpublications\u001b[0m\u001b[0;34m.\u001b[0m\u001b[0miterrows\u001b[0m\u001b[0;34m(\u001b[0m\u001b[0;34m)\u001b[0m\u001b[0;34m:\u001b[0m\u001b[0;34m\u001b[0m\u001b[0m\n\u001b[1;32m      4\u001b[0m     \u001b[0midx_row\u001b[0m \u001b[0;34m+=\u001b[0m \u001b[0;36m1\u001b[0m\u001b[0;34m\u001b[0m\u001b[0m\n\u001b[0;32m----> 5\u001b[0;31m     \u001b[0mmd_filename\u001b[0m \u001b[0;34m=\u001b[0m \u001b[0mstr\u001b[0m\u001b[0;34m(\u001b[0m\u001b[0mitem\u001b[0m\u001b[0;34m.\u001b[0m\u001b[0mpub_date\u001b[0m\u001b[0;34m)\u001b[0m \u001b[0;34m+\u001b[0m \u001b[0;34m\"-\"\u001b[0m \u001b[0;34m+\u001b[0m \u001b[0mitem\u001b[0m\u001b[0;34m.\u001b[0m\u001b[0murl_slug\u001b[0m \u001b[0;34m+\u001b[0m \u001b[0mstr\u001b[0m\u001b[0;34m(\u001b[0m\u001b[0midx_row\u001b[0m\u001b[0;34m)\u001b[0m\u001b[0;34m+\u001b[0m \u001b[0;34m\".md\"\u001b[0m\u001b[0;34m\u001b[0m\u001b[0m\n\u001b[0m\u001b[1;32m      6\u001b[0m     \u001b[0mhtml_filename\u001b[0m \u001b[0;34m=\u001b[0m \u001b[0mstr\u001b[0m\u001b[0;34m(\u001b[0m\u001b[0mitem\u001b[0m\u001b[0;34m.\u001b[0m\u001b[0mpub_date\u001b[0m\u001b[0;34m)\u001b[0m \u001b[0;34m+\u001b[0m \u001b[0;34m\"-\"\u001b[0m \u001b[0;34m+\u001b[0m \u001b[0mitem\u001b[0m\u001b[0;34m.\u001b[0m\u001b[0murl_slug\u001b[0m \u001b[0;34m+\u001b[0m \u001b[0mstr\u001b[0m\u001b[0;34m(\u001b[0m\u001b[0midx_row\u001b[0m\u001b[0;34m)\u001b[0m\u001b[0;34m\u001b[0m\u001b[0m\n\u001b[1;32m      7\u001b[0m     \u001b[0myear\u001b[0m \u001b[0;34m=\u001b[0m \u001b[0mitem\u001b[0m\u001b[0;34m.\u001b[0m\u001b[0mpub_date\u001b[0m\u001b[0;34m[\u001b[0m\u001b[0;34m:\u001b[0m\u001b[0;36m4\u001b[0m\u001b[0;34m]\u001b[0m\u001b[0;34m\u001b[0m\u001b[0m\n",
      "\u001b[0;31mTypeError\u001b[0m: Can't convert 'float' object to str implicitly"
     ]
    }
   ],
   "source": [
    "import os\n",
    "idx_row = 0\n",
    "for row, item in publications.iterrows():\n",
    "    idx_row += 1\n",
    "    md_filename = str(item.pub_date) + \"-\" + item.url_slug + str(idx_row)+ \".md\"\n",
    "    html_filename = str(item.pub_date) + \"-\" + item.url_slug + str(idx_row)\n",
    "    year = item.pub_date[:4]\n",
    "    \n",
    "    ## YAML variables\n",
    "    \n",
    "    md = \"---\\ntitle: \\\"\"   + item.title + '\"\\n'\n",
    "    \n",
    "    md += \"\"\"collection: publications\"\"\"\n",
    "    \n",
    "    md += \"\"\"\\npermalink: /publication/\"\"\" + html_filename\n",
    "    \n",
    "    if len(str(item.excerpt)) > 5:\n",
    "        md += \"\\nexcerpt: '\" + html_escape(item.excerpt) + \"'\"\n",
    "    \n",
    "    md += \"\\ndate: \" + str(item.pub_date) \n",
    "    \n",
    "    md += \"\\nvenue: '\" + html_escape(item.venue) + \"'\"\n",
    "    \n",
    "    if len(str(item.paper_url)) > 5:\n",
    "        md += \"\\npaperurl: '\" + item.paper_url + \"'\"\n",
    "    \n",
    "    md += \"\\ncitation: '\" + html_escape(item.citation) + \"'\"\n",
    "    \n",
    "    md += \"\\n---\"\n",
    "    \n",
    "    ## Markdown description for individual page\n",
    "        \n",
    "    if len(str(item.excerpt)) > 5:\n",
    "        md += \"\\n\" + html_escape(item.excerpt) + \"\\n\"\n",
    "    \n",
    "    if len(str(item.paper_url)) > 5:\n",
    "        md += \"\\n[Download paper here](\" + item.paper_url + \")\\n\" \n",
    "        \n",
    "    md += \"\\nRecommended citation: \" + str(item.citation)\n",
    "    \n",
    "    md_filename = os.path.basename(md_filename)\n",
    "       \n",
    "    with open(\"../_publications/\" + md_filename, 'w') as f:\n",
    "        f.write(md)"
   ]
  },
  {
   "cell_type": "markdown",
   "metadata": {},
   "source": [
    "These files are in the publications directory, one directory below where we're working from."
   ]
  },
  {
   "cell_type": "code",
   "execution_count": 26,
   "metadata": {},
   "outputs": [
    {
     "name": "stdout",
     "output_type": "stream",
     "text": [
      "2010-12-14-p1.md  2012-09-17-p6.md  2016-01-05-p9.md  2017-07-01-p12.md\r\n",
      "2011-11-24-p2.md  2012-12-21-p5.md  2016-08-22-p10.md 2017-10-01-p13.md\r\n",
      "2012-03-29-p4.md  2014-09-09-p7.md  2016-09-01-p11.md\r\n",
      "2012-04-12-p3.md  2015-01-16-p8.md  2017-07-01-j6.md\r\n"
     ]
    }
   ],
   "source": [
    "!ls ../_publications/"
   ]
  },
  {
   "cell_type": "code",
   "execution_count": 15,
   "metadata": {},
   "outputs": [
    {
     "name": "stdout",
     "output_type": "stream",
     "text": [
      "---\r\n",
      "title: \"Search for the Standard Model Higgs boson in the decay channel H->ZZ->4l with the ATLAS detector\"\r\n",
      "collection: publications\r\n",
      "permalink: /publication/2011-09-p2\r\n",
      "date: 2011-09\r\n",
      "venue: 'Phys.Lett.B'\r\n",
      "paperurl: 'http://inspirehep.net/record/929699'\r\n",
      "citation: 'Phys.Lett.B 705 (2011) 435-451'\r\n",
      "---\r\n",
      "[Download paper here](http://inspirehep.net/record/929699)\r\n",
      "\r\n",
      "Recommended citation: Phys.Lett.B 705 (2011) 435-451"
     ]
    }
   ],
   "source": [
    "!cat ../_publications/2011-09-p2.md"
   ]
  },
  {
   "cell_type": "code",
   "execution_count": null,
   "metadata": {
    "collapsed": true
   },
   "outputs": [],
   "source": []
  }
 ],
 "metadata": {
  "kernelspec": {
   "display_name": "Python 3",
   "language": "python",
   "name": "python3"
  },
  "language_info": {
   "codemirror_mode": {
    "name": "ipython",
    "version": 3
   },
   "file_extension": ".py",
   "mimetype": "text/x-python",
   "name": "python",
   "nbconvert_exporter": "python",
   "pygments_lexer": "ipython3",
   "version": "3.5.4"
  }
 },
 "nbformat": 4,
 "nbformat_minor": 1
}
